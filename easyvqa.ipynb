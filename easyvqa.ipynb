{
  "nbformat": 4,
  "nbformat_minor": 0,
  "metadata": {
    "colab": {
      "name": "easyvqa.ipynb",
      "provenance": [],
      "include_colab_link": true
    },
    "kernelspec": {
      "name": "python3",
      "display_name": "Python 3"
    },
    "language_info": {
      "name": "python"
    },
    "accelerator": "GPU"
  },
  "cells": [
    {
      "cell_type": "markdown",
      "metadata": {
        "id": "view-in-github",
        "colab_type": "text"
      },
      "source": [
        "<a href=\"https://colab.research.google.com/github/shibil-rahman/easy-vqa-revolvers/blob/main/easyvqa.ipynb\" target=\"_parent\"><img src=\"https://colab.research.google.com/assets/colab-badge.svg\" alt=\"Open In Colab\"/></a>"
      ]
    },
    {
      "cell_type": "code",
      "execution_count": null,
      "metadata": {
        "colab": {
          "base_uri": "https://localhost:8080/"
        },
        "id": "BJ7RiBtKbaMN",
        "outputId": "354df04a-eeff-4297-f62d-b0f82f5b2b2e"
      },
      "outputs": [
        {
          "output_type": "stream",
          "name": "stdout",
          "text": [
            "/content\n"
          ]
        }
      ],
      "source": [
        "!pwd"
      ]
    },
    {
      "cell_type": "code",
      "source": [
        "!git clone https://github.com/vzhou842/easy-VQA-keras.git"
      ],
      "metadata": {
        "colab": {
          "base_uri": "https://localhost:8080/"
        },
        "id": "6-j0_12jbnlw",
        "outputId": "a585ee92-addb-4675-c22e-f06ad415c6a9"
      },
      "execution_count": null,
      "outputs": [
        {
          "output_type": "stream",
          "name": "stdout",
          "text": [
            "Cloning into 'easy-VQA-keras'...\n",
            "remote: Enumerating objects: 250, done.\u001b[K\n",
            "remote: Counting objects: 100% (31/31), done.\u001b[K\n",
            "remote: Compressing objects: 100% (24/24), done.\u001b[K\n",
            "remote: Total 250 (delta 13), reused 18 (delta 7), pack-reused 219\u001b[K\n",
            "Receiving objects: 100% (250/250), 41.33 KiB | 1.88 MiB/s, done.\n",
            "Resolving deltas: 100% (147/147), done.\n"
          ]
        }
      ]
    },
    {
      "cell_type": "code",
      "source": [
        "cd easy-VQA-keras"
      ],
      "metadata": {
        "colab": {
          "base_uri": "https://localhost:8080/"
        },
        "id": "8YYv1jL2cJU5",
        "outputId": "e06a8ddf-eba8-4b13-d762-d97ffb6f7a34"
      },
      "execution_count": null,
      "outputs": [
        {
          "output_type": "stream",
          "name": "stdout",
          "text": [
            "/content/easy-VQA-keras\n"
          ]
        }
      ]
    },
    {
      "cell_type": "code",
      "source": [
        "pip install -r requirements.txt"
      ],
      "metadata": {
        "colab": {
          "base_uri": "https://localhost:8080/"
        },
        "id": "TS4W0ji1cYWV",
        "outputId": "92eee374-ae6f-44fe-83a2-0872ed5d0ee4"
      },
      "execution_count": null,
      "outputs": [
        {
          "output_type": "stream",
          "name": "stdout",
          "text": [
            "Collecting easy-vqa>=1.0\n",
            "  Downloading easy_vqa-1.0-py3-none-any.whl (3.2 MB)\n",
            "\u001b[K     |████████████████████████████████| 3.2 MB 5.3 MB/s \n",
            "\u001b[?25hRequirement already satisfied: tensorflow>=2.3.0 in /usr/local/lib/python3.7/dist-packages (from -r requirements.txt (line 2)) (2.7.0)\n",
            "Requirement already satisfied: Pillow>=7.0.0 in /usr/local/lib/python3.7/dist-packages (from -r requirements.txt (line 3)) (7.1.2)\n",
            "Requirement already satisfied: numpy>=1.18.0 in /usr/local/lib/python3.7/dist-packages (from -r requirements.txt (line 4)) (1.19.5)\n",
            "Requirement already satisfied: keras<2.8,>=2.7.0rc0 in /usr/local/lib/python3.7/dist-packages (from tensorflow>=2.3.0->-r requirements.txt (line 2)) (2.7.0)\n",
            "Requirement already satisfied: libclang>=9.0.1 in /usr/local/lib/python3.7/dist-packages (from tensorflow>=2.3.0->-r requirements.txt (line 2)) (12.0.0)\n",
            "Requirement already satisfied: wheel<1.0,>=0.32.0 in /usr/local/lib/python3.7/dist-packages (from tensorflow>=2.3.0->-r requirements.txt (line 2)) (0.37.0)\n",
            "Requirement already satisfied: grpcio<2.0,>=1.24.3 in /usr/local/lib/python3.7/dist-packages (from tensorflow>=2.3.0->-r requirements.txt (line 2)) (1.42.0)\n",
            "Requirement already satisfied: h5py>=2.9.0 in /usr/local/lib/python3.7/dist-packages (from tensorflow>=2.3.0->-r requirements.txt (line 2)) (3.1.0)\n",
            "Requirement already satisfied: tensorflow-io-gcs-filesystem>=0.21.0 in /usr/local/lib/python3.7/dist-packages (from tensorflow>=2.3.0->-r requirements.txt (line 2)) (0.22.0)\n",
            "Requirement already satisfied: opt-einsum>=2.3.2 in /usr/local/lib/python3.7/dist-packages (from tensorflow>=2.3.0->-r requirements.txt (line 2)) (3.3.0)\n",
            "Requirement already satisfied: gast<0.5.0,>=0.2.1 in /usr/local/lib/python3.7/dist-packages (from tensorflow>=2.3.0->-r requirements.txt (line 2)) (0.4.0)\n",
            "Requirement already satisfied: astunparse>=1.6.0 in /usr/local/lib/python3.7/dist-packages (from tensorflow>=2.3.0->-r requirements.txt (line 2)) (1.6.3)\n",
            "Requirement already satisfied: flatbuffers<3.0,>=1.12 in /usr/local/lib/python3.7/dist-packages (from tensorflow>=2.3.0->-r requirements.txt (line 2)) (2.0)\n",
            "Requirement already satisfied: termcolor>=1.1.0 in /usr/local/lib/python3.7/dist-packages (from tensorflow>=2.3.0->-r requirements.txt (line 2)) (1.1.0)\n",
            "Requirement already satisfied: protobuf>=3.9.2 in /usr/local/lib/python3.7/dist-packages (from tensorflow>=2.3.0->-r requirements.txt (line 2)) (3.17.3)\n",
            "Requirement already satisfied: six>=1.12.0 in /usr/local/lib/python3.7/dist-packages (from tensorflow>=2.3.0->-r requirements.txt (line 2)) (1.15.0)\n",
            "Requirement already satisfied: keras-preprocessing>=1.1.1 in /usr/local/lib/python3.7/dist-packages (from tensorflow>=2.3.0->-r requirements.txt (line 2)) (1.1.2)\n",
            "Requirement already satisfied: tensorflow-estimator<2.8,~=2.7.0rc0 in /usr/local/lib/python3.7/dist-packages (from tensorflow>=2.3.0->-r requirements.txt (line 2)) (2.7.0)\n",
            "Requirement already satisfied: google-pasta>=0.1.1 in /usr/local/lib/python3.7/dist-packages (from tensorflow>=2.3.0->-r requirements.txt (line 2)) (0.2.0)\n",
            "Requirement already satisfied: wrapt>=1.11.0 in /usr/local/lib/python3.7/dist-packages (from tensorflow>=2.3.0->-r requirements.txt (line 2)) (1.13.3)\n",
            "Requirement already satisfied: tensorboard~=2.6 in /usr/local/lib/python3.7/dist-packages (from tensorflow>=2.3.0->-r requirements.txt (line 2)) (2.7.0)\n",
            "Requirement already satisfied: typing-extensions>=3.6.6 in /usr/local/lib/python3.7/dist-packages (from tensorflow>=2.3.0->-r requirements.txt (line 2)) (3.10.0.2)\n",
            "Requirement already satisfied: absl-py>=0.4.0 in /usr/local/lib/python3.7/dist-packages (from tensorflow>=2.3.0->-r requirements.txt (line 2)) (0.12.0)\n",
            "Requirement already satisfied: cached-property in /usr/local/lib/python3.7/dist-packages (from h5py>=2.9.0->tensorflow>=2.3.0->-r requirements.txt (line 2)) (1.5.2)\n",
            "Requirement already satisfied: markdown>=2.6.8 in /usr/local/lib/python3.7/dist-packages (from tensorboard~=2.6->tensorflow>=2.3.0->-r requirements.txt (line 2)) (3.3.6)\n",
            "Requirement already satisfied: werkzeug>=0.11.15 in /usr/local/lib/python3.7/dist-packages (from tensorboard~=2.6->tensorflow>=2.3.0->-r requirements.txt (line 2)) (1.0.1)\n",
            "Requirement already satisfied: google-auth<3,>=1.6.3 in /usr/local/lib/python3.7/dist-packages (from tensorboard~=2.6->tensorflow>=2.3.0->-r requirements.txt (line 2)) (1.35.0)\n",
            "Requirement already satisfied: google-auth-oauthlib<0.5,>=0.4.1 in /usr/local/lib/python3.7/dist-packages (from tensorboard~=2.6->tensorflow>=2.3.0->-r requirements.txt (line 2)) (0.4.6)\n",
            "Requirement already satisfied: setuptools>=41.0.0 in /usr/local/lib/python3.7/dist-packages (from tensorboard~=2.6->tensorflow>=2.3.0->-r requirements.txt (line 2)) (57.4.0)\n",
            "Requirement already satisfied: tensorboard-plugin-wit>=1.6.0 in /usr/local/lib/python3.7/dist-packages (from tensorboard~=2.6->tensorflow>=2.3.0->-r requirements.txt (line 2)) (1.8.0)\n",
            "Requirement already satisfied: tensorboard-data-server<0.7.0,>=0.6.0 in /usr/local/lib/python3.7/dist-packages (from tensorboard~=2.6->tensorflow>=2.3.0->-r requirements.txt (line 2)) (0.6.1)\n",
            "Requirement already satisfied: requests<3,>=2.21.0 in /usr/local/lib/python3.7/dist-packages (from tensorboard~=2.6->tensorflow>=2.3.0->-r requirements.txt (line 2)) (2.23.0)\n",
            "Requirement already satisfied: rsa<5,>=3.1.4 in /usr/local/lib/python3.7/dist-packages (from google-auth<3,>=1.6.3->tensorboard~=2.6->tensorflow>=2.3.0->-r requirements.txt (line 2)) (4.8)\n",
            "Requirement already satisfied: pyasn1-modules>=0.2.1 in /usr/local/lib/python3.7/dist-packages (from google-auth<3,>=1.6.3->tensorboard~=2.6->tensorflow>=2.3.0->-r requirements.txt (line 2)) (0.2.8)\n",
            "Requirement already satisfied: cachetools<5.0,>=2.0.0 in /usr/local/lib/python3.7/dist-packages (from google-auth<3,>=1.6.3->tensorboard~=2.6->tensorflow>=2.3.0->-r requirements.txt (line 2)) (4.2.4)\n",
            "Requirement already satisfied: requests-oauthlib>=0.7.0 in /usr/local/lib/python3.7/dist-packages (from google-auth-oauthlib<0.5,>=0.4.1->tensorboard~=2.6->tensorflow>=2.3.0->-r requirements.txt (line 2)) (1.3.0)\n",
            "Requirement already satisfied: importlib-metadata>=4.4 in /usr/local/lib/python3.7/dist-packages (from markdown>=2.6.8->tensorboard~=2.6->tensorflow>=2.3.0->-r requirements.txt (line 2)) (4.8.2)\n",
            "Requirement already satisfied: zipp>=0.5 in /usr/local/lib/python3.7/dist-packages (from importlib-metadata>=4.4->markdown>=2.6.8->tensorboard~=2.6->tensorflow>=2.3.0->-r requirements.txt (line 2)) (3.6.0)\n",
            "Requirement already satisfied: pyasn1<0.5.0,>=0.4.6 in /usr/local/lib/python3.7/dist-packages (from pyasn1-modules>=0.2.1->google-auth<3,>=1.6.3->tensorboard~=2.6->tensorflow>=2.3.0->-r requirements.txt (line 2)) (0.4.8)\n",
            "Requirement already satisfied: certifi>=2017.4.17 in /usr/local/lib/python3.7/dist-packages (from requests<3,>=2.21.0->tensorboard~=2.6->tensorflow>=2.3.0->-r requirements.txt (line 2)) (2021.10.8)\n",
            "Requirement already satisfied: idna<3,>=2.5 in /usr/local/lib/python3.7/dist-packages (from requests<3,>=2.21.0->tensorboard~=2.6->tensorflow>=2.3.0->-r requirements.txt (line 2)) (2.10)\n",
            "Requirement already satisfied: chardet<4,>=3.0.2 in /usr/local/lib/python3.7/dist-packages (from requests<3,>=2.21.0->tensorboard~=2.6->tensorflow>=2.3.0->-r requirements.txt (line 2)) (3.0.4)\n",
            "Requirement already satisfied: urllib3!=1.25.0,!=1.25.1,<1.26,>=1.21.1 in /usr/local/lib/python3.7/dist-packages (from requests<3,>=2.21.0->tensorboard~=2.6->tensorflow>=2.3.0->-r requirements.txt (line 2)) (1.24.3)\n",
            "Requirement already satisfied: oauthlib>=3.0.0 in /usr/local/lib/python3.7/dist-packages (from requests-oauthlib>=0.7.0->google-auth-oauthlib<0.5,>=0.4.1->tensorboard~=2.6->tensorflow>=2.3.0->-r requirements.txt (line 2)) (3.1.1)\n",
            "Installing collected packages: easy-vqa\n",
            "Successfully installed easy-vqa-1.0\n"
          ]
        }
      ]
    },
    {
      "cell_type": "code",
      "source": [
        "!python train.py"
      ],
      "metadata": {
        "colab": {
          "base_uri": "https://localhost:8080/"
        },
        "id": "UGndki1ucvZF",
        "outputId": "aca13f4f-a448-47f2-c78f-a4fb8d39c494"
      },
      "execution_count": null,
      "outputs": [
        {
          "output_type": "stream",
          "name": "stdout",
          "text": [
            "\n",
            "--- Reading questions...\n",
            "Read 38575 training questions and 9673 testing questions.\n",
            "\n",
            "--- Reading answers...\n",
            "Found 13 total answers:\n",
            "['circle', 'green', 'red', 'gray', 'yes', 'teal', 'black', 'rectangle', 'yellow', 'triangle', 'brown', 'blue', 'no']\n",
            "\n",
            "--- Reading/processing images...\n",
            "Read 4000 training images and 1000 testing images.\n",
            "Each image has shape (64, 64, 3).\n",
            "\n",
            "--- Fitting question tokenizer...\n",
            "Vocab Size: 27\n",
            "{'is': 1, 'shape': 2, 'the': 3, 'a': 4, 'image': 5, 'there': 6, 'not': 7, 'what': 8, 'present': 9, 'does': 10, 'contain': 11, 'in': 12, 'color': 13, 'no': 14, 'circle': 15, 'rectangle': 16, 'triangle': 17, 'brown': 18, 'yellow': 19, 'gray': 20, 'teal': 21, 'black': 22, 'red': 23, 'green': 24, 'blue': 25, 'of': 26}\n",
            "\n",
            "--- Converting questions to bags of words...\n",
            "Example question bag of words: [0. 1. 1. 1. 0. 0. 0. 0. 1. 0. 0. 0. 0. 0. 0. 0. 0. 0. 0. 0. 0. 0. 0. 0.\n",
            " 0. 1. 0.]\n",
            "\n",
            "--- Creating model input images...\n",
            "tcmalloc: large alloc 1896038400 bytes == 0x55e4b5c80000 @  0x7fe38b6501e7 0x7fe34882d46e 0x7fe34887dc7b 0x7fe348880e83 0x7fe34888107b 0x7fe348922761 0x55e4a05f84b0 0x55e4a05f8240 0x55e4a066c0f3 0x55e4a0666ced 0x55e4a05f9bda 0x55e4a0667915 0x55e4a06669ee 0x55e4a06666f3 0x55e4a07304c2 0x55e4a073083d 0x55e4a07306e6 0x55e4a0708163 0x55e4a0707e0c 0x7fe38a43abf7 0x55e4a0707cea\n",
            "\n",
            "--- Creating model outputs...\n",
            "Example model output: [0. 0. 0. 0. 0. 0. 0. 1. 0. 0. 0. 0. 0.]\n",
            "\n",
            "--- Building model...\n",
            "2021-12-28 14:49:24.780285: W tensorflow/core/common_runtime/gpu/gpu_bfc_allocator.cc:39] Overriding allow_growth setting because the TF_FORCE_GPU_ALLOW_GROWTH environment variable is set. Original config value was 0.\n",
            "/usr/local/lib/python3.7/dist-packages/keras/optimizer_v2/adam.py:105: UserWarning: The `lr` argument is deprecated, use `learning_rate` instead.\n",
            "  super(Adam, self).__init__(name, **kwargs)\n",
            "\n",
            "--- Training model...\n",
            "2021-12-28 14:49:25.280515: W tensorflow/core/framework/cpu_allocator_impl.cc:82] Allocation of 1896038400 exceeds 10% of free system memory.\n",
            "tcmalloc: large alloc 1896038400 bytes == 0x55e54a2ce000 @  0x7fe38b632b6b 0x7fe38b652379 0x7fe35bef12d7 0x7fe34a5ab77f 0x7fe34a641b28 0x7fe35722d123 0x7fe350831f0d 0x7fe357765c2f 0x7fe350834614 0x7fe3508395ff 0x7fe35083a15d 0x7fe3508429fb 0x7fe350843fc0 0x7fe35051d469 0x7fe357255181 0x7fe34ffec26d 0x7fe34ff6b1f3 0x7fe339ff79d7 0x7fe33a01b3b8 0x55e4a05f84b0 0x55e4a05f8240 0x55e4a066c0f3 0x55e4a06669ee 0x55e4a0538e2b 0x55e4a0668fe4 0x55e4a0666ced 0x55e4a05fa48c 0x55e4a063b159 0x55e4a06380a4 0x55e4a05f8d49 0x55e4a066c94f\n",
            "Epoch 1/8\n",
            "1206/1206 [==============================] - ETA: 0s - loss: 0.8869 - accuracy: 0.6522/usr/local/lib/python3.7/dist-packages/keras/engine/functional.py:1410: CustomMaskWarning: Custom mask layers require a config and must override get_config. When loading, the custom mask layer must be passed to the custom_objects argument.\n",
            "  layer_config = serialize_layer_fn(layer)\n",
            "1206/1206 [==============================] - 24s 10ms/step - loss: 0.8869 - accuracy: 0.6522 - val_loss: 0.7586 - val_accuracy: 0.6703\n",
            "Epoch 2/8\n",
            "1206/1206 [==============================] - 12s 10ms/step - loss: 0.7577 - accuracy: 0.6687 - val_loss: 0.7373 - val_accuracy: 0.6840\n",
            "Epoch 3/8\n",
            "1206/1206 [==============================] - 12s 10ms/step - loss: 0.7124 - accuracy: 0.6909 - val_loss: 0.6532 - val_accuracy: 0.7269\n",
            "Epoch 4/8\n",
            "1206/1206 [==============================] - 11s 9ms/step - loss: 0.5985 - accuracy: 0.7440 - val_loss: 0.5418 - val_accuracy: 0.7566\n",
            "Epoch 5/8\n",
            "1206/1206 [==============================] - 11s 9ms/step - loss: 0.5027 - accuracy: 0.7651 - val_loss: 0.4772 - val_accuracy: 0.7641\n",
            "Epoch 6/8\n",
            "1206/1206 [==============================] - 12s 10ms/step - loss: 0.4369 - accuracy: 0.7831 - val_loss: 0.4275 - val_accuracy: 0.7885\n",
            "Epoch 7/8\n",
            "1206/1206 [==============================] - 12s 10ms/step - loss: 0.3890 - accuracy: 0.8174 - val_loss: 0.3985 - val_accuracy: 0.8160\n",
            "Epoch 8/8\n",
            "1206/1206 [==============================] - 12s 10ms/step - loss: 0.3474 - accuracy: 0.8422 - val_loss: 0.3708 - val_accuracy: 0.8285\n"
          ]
        }
      ]
    },
    {
      "cell_type": "code",
      "source": [
        "#I have modified train.py by including code to find accuracy using test data."
      ],
      "metadata": {
        "id": "sOZmqxTIC9QT"
      },
      "execution_count": null,
      "outputs": []
    },
    {
      "cell_type": "code",
      "source": [
        "!python train.py"
      ],
      "metadata": {
        "colab": {
          "base_uri": "https://localhost:8080/"
        },
        "id": "egVmRhs3C_pN",
        "outputId": "c9e84673-0e4d-4c3a-e02a-dd98e23fdac5"
      },
      "execution_count": null,
      "outputs": [
        {
          "output_type": "stream",
          "name": "stdout",
          "text": [
            "\n",
            "--- Reading questions...\n",
            "Read 38575 training questions and 9673 testing questions.\n",
            "\n",
            "--- Reading answers...\n",
            "Found 13 total answers:\n",
            "['circle', 'green', 'red', 'gray', 'yes', 'teal', 'black', 'rectangle', 'yellow', 'triangle', 'brown', 'blue', 'no']\n",
            "\n",
            "--- Reading/processing images...\n",
            "Read 4000 training images and 1000 testing images.\n",
            "Each image has shape (64, 64, 3).\n",
            "\n",
            "--- Fitting question tokenizer...\n",
            "Vocab Size: 27\n",
            "{'is': 1, 'shape': 2, 'the': 3, 'a': 4, 'image': 5, 'there': 6, 'not': 7, 'what': 8, 'present': 9, 'does': 10, 'contain': 11, 'in': 12, 'color': 13, 'no': 14, 'circle': 15, 'rectangle': 16, 'triangle': 17, 'brown': 18, 'yellow': 19, 'gray': 20, 'teal': 21, 'black': 22, 'red': 23, 'green': 24, 'blue': 25, 'of': 26}\n",
            "\n",
            "--- Converting questions to bags of words...\n",
            "Example question bag of words: [0. 1. 1. 1. 0. 0. 0. 0. 1. 0. 0. 0. 0. 0. 0. 0. 0. 0. 0. 0. 0. 0. 0. 0.\n",
            " 0. 1. 0.]\n",
            "\n",
            "--- Creating model input images...\n",
            "tcmalloc: large alloc 1896038400 bytes == 0x55f576bba000 @  0x7f73aa9521e7 0x7f7367b2f46e 0x7f7367b7fc7b 0x7f7367b82e83 0x7f7367b8307b 0x7f7367c24761 0x55f55f9344b0 0x55f55f934240 0x55f55f9a80f3 0x55f55f9a2ced 0x55f55f935bda 0x55f55f9a3915 0x55f55f9a29ee 0x55f55f9a26f3 0x55f55fa6c4c2 0x55f55fa6c83d 0x55f55fa6c6e6 0x55f55fa44163 0x55f55fa43e0c 0x7f73a973cbf7 0x55f55fa43cea\n",
            "\n",
            "--- Creating model outputs...\n",
            "Example model output: [0. 0. 0. 0. 0. 0. 0. 1. 0. 0. 0. 0. 0.]\n",
            "\n",
            "--- Building model...\n",
            "2021-12-28 15:01:04.420436: W tensorflow/core/common_runtime/gpu/gpu_bfc_allocator.cc:39] Overriding allow_growth setting because the TF_FORCE_GPU_ALLOW_GROWTH environment variable is set. Original config value was 0.\n",
            "/usr/local/lib/python3.7/dist-packages/keras/optimizer_v2/adam.py:105: UserWarning: The `lr` argument is deprecated, use `learning_rate` instead.\n",
            "  super(Adam, self).__init__(name, **kwargs)\n",
            "\n",
            "--- Training model...\n",
            "2021-12-28 15:01:04.844254: W tensorflow/core/framework/cpu_allocator_impl.cc:82] Allocation of 1896038400 exceeds 10% of free system memory.\n",
            "tcmalloc: large alloc 1896038400 bytes == 0x55f60b2e0000 @  0x7f73aa934b6b 0x7f73aa954379 0x7f737b1f32d7 0x7f73698ad77f 0x7f7369943b28 0x7f737652f123 0x7f736fb33f0d 0x7f7376a67c2f 0x7f736fb36614 0x7f736fb3b5ff 0x7f736fb3c15d 0x7f736fb449fb 0x7f736fb45fc0 0x7f736f81f469 0x7f7376557181 0x7f736f2ee26d 0x7f736f26d1f3 0x7f73592f99d7 0x7f735931d3b8 0x55f55f9344b0 0x55f55f934240 0x55f55f9a80f3 0x55f55f9a29ee 0x55f55f874e2b 0x55f55f9a4fe4 0x55f55f9a2ced 0x55f55f93648c 0x55f55f977159 0x55f55f9740a4 0x55f55f934d49 0x55f55f9a894f\n",
            "Epoch 1/8\n",
            "1206/1206 [==============================] - ETA: 0s - loss: 0.8783 - accuracy: 0.64812021-12-28 15:01:17.063390: W tensorflow/core/framework/cpu_allocator_impl.cc:82] Allocation of 475447296 exceeds 10% of free system memory.\n",
            "/usr/local/lib/python3.7/dist-packages/keras/engine/functional.py:1410: CustomMaskWarning: Custom mask layers require a config and must override get_config. When loading, the custom mask layer must be passed to the custom_objects argument.\n",
            "  layer_config = serialize_layer_fn(layer)\n",
            "1206/1206 [==============================] - 14s 10ms/step - loss: 0.8783 - accuracy: 0.6481 - val_loss: 0.7291 - val_accuracy: 0.6833\n",
            "Epoch 2/8\n",
            "1206/1206 [==============================] - 11s 9ms/step - loss: 0.7137 - accuracy: 0.6913 - val_loss: 0.6779 - val_accuracy: 0.7090\n",
            "Epoch 3/8\n",
            "1206/1206 [==============================] - 11s 9ms/step - loss: 0.6420 - accuracy: 0.7246 - val_loss: 0.5959 - val_accuracy: 0.7428\n",
            "Epoch 4/8\n",
            "1206/1206 [==============================] - 11s 9ms/step - loss: 0.5712 - accuracy: 0.7453 - val_loss: 0.5406 - val_accuracy: 0.7575\n",
            "Epoch 5/8\n",
            "1206/1206 [==============================] - 12s 10ms/step - loss: 0.5137 - accuracy: 0.7657 - val_loss: 0.4962 - val_accuracy: 0.7681\n",
            "Epoch 6/8\n",
            "1206/1206 [==============================] - 11s 9ms/step - loss: 0.4619 - accuracy: 0.7806 - val_loss: 0.4601 - val_accuracy: 0.7764\n",
            "Epoch 7/8\n",
            " 924/1206 [=====================>........] - ETA: 2s - loss: 0.4207 - accuracy: 0.7897"
          ]
        }
      ]
    },
    {
      "cell_type": "markdown",
      "source": [
        ""
      ],
      "metadata": {
        "id": "X8OpplkcTalV"
      }
    },
    {
      "cell_type": "markdown",
      "source": [
        ""
      ],
      "metadata": {
        "id": "VQh-n0iaTDQH"
      }
    },
    {
      "cell_type": "code",
      "source": [
        ""
      ],
      "metadata": {
        "id": "x3FGUdb4DEtT"
      },
      "execution_count": null,
      "outputs": []
    }
  ]
}